{
 "cells": [
  {
   "cell_type": "markdown",
   "id": "dbc50eec",
   "metadata": {
    "tags": []
   },
   "source": [
    "# Question 01"
   ]
  },
  {
   "cell_type": "raw",
   "id": "ab01c2a5-bcf3-4f37-8c09-878f8187e0a6",
   "metadata": {},
   "source": [
    "5 is an Integer whole number\n",
    "5.0 is a floating point number\n",
    "5 > 1 is a Relational operator\n",
    "'5' is a string\n",
    "5 * 2 is Arithmetic operator\n",
    "'5・2\n",
    "'5' + '2'is a string\n",
    "5 / 2 is Arithmetic operator\n",
    "5 % 2 is an Arithmetic Operator (5, 2, 1) Array\n",
    "5 == 3 is relational operators\n",
    "Pi (the number) -Logical operators"
   ]
  },
  {
   "cell_type": "markdown",
   "id": "2b6f2663",
   "metadata": {},
   "source": [
    "# Question 02"
   ]
  },
  {
   "cell_type": "code",
   "execution_count": 4,
   "id": "70acaa77-e0a3-4db0-9148-28fb73afe040",
   "metadata": {},
   "outputs": [
    {
     "name": "stdout",
     "output_type": "stream",
     "text": [
      "Number of words in the string = 34\n"
     ]
    }
   ],
   "source": [
    "//a\n",
    "        \n",
    "        string str = \"Supercalifragilisticexpialidocious\";\n",
    "        string x=\"ice\";\n",
    "        int k = str.Length;\n",
    "        Console.Write(\"Number of words in the string = {0}\\n\", k);\n",
    "\n",
    "\n",
    "\n",
    "    "
   ]
  },
  {
   "cell_type": "code",
   "execution_count": 9,
   "id": "22d61b73-b393-4e87-961c-c4add43b81ca",
   "metadata": {},
   "outputs": [
    {
     "name": "stdout",
     "output_type": "stream",
     "text": [
      "does the string contain specified word: True\n"
     ]
    }
   ],
   "source": [
    "//b\n",
    "\n",
    " Boolean sol=str.Contains(x);\n",
    "         Console.Write(\"does the string contain specified word: {0}\\n\", sol);\n"
   ]
  },
  {
   "cell_type": "code",
   "execution_count": 17,
   "id": "44ec857c-4552-435f-8319-45d68356d41c",
   "metadata": {},
   "outputs": [
    {
     "name": "stdout",
     "output_type": "stream",
     "text": [
      "string Bababadalgharaghtakamminarronnkonn is longer"
     ]
    }
   ],
   "source": [
    "//c\n",
    "\n",
    "string a = \"Supercalifragilisticexpialidocious\";\n",
    "string b = \"Honorificabilitudinitatibus\";\n",
    "string c = \"Bababadalgharaghtakamminarronnkonn\";\n",
    "int l = a.Length;\n",
    "int r = b.Length;\n",
    "int s = c.Length;\n",
    "\n",
    "if(l>r && l>s )\n",
    "{\n",
    "  Console.Write($\"string {a} is longer\" );\n",
    "}   \n",
    "else if(r>1 && r>s)\n",
    "        \n",
    "    {\n",
    "        Console.Write($\"string {b} is longer\" );\n",
    "    }\n",
    "\n",
    "\n",
    "else{\n",
    "    Console.Write($\"string {c} is longer\" );\n",
    "}"
   ]
  },
  {
   "cell_type": "markdown",
   "id": "4315d73c",
   "metadata": {},
   "source": [
    "# Questin 03"
   ]
  },
  {
   "cell_type": "code",
   "execution_count": 3,
   "id": "955993ce-f706-44a7-a205-4f76cc91783b",
   "metadata": {},
   "outputs": [
    {
     "name": "stdout",
     "output_type": "stream",
     "text": [
      "Area of tirangle:1.7320508075688772"
     ]
    }
   ],
   "source": [
    "double a = 2;\n",
    "        \n",
    "        double b = 2;\n",
    "        \n",
    "        double c = 2;\n",
    "\n",
    "        \n",
    "        double s = (a + b+ c) / 2;\n",
    "        double x = s - a;\n",
    "        double y = s - b;\n",
    "        double z = s - c;\n",
    "\n",
    "        double area = Math.Sqrt(s*x*y*z);\n",
    "        Console.Write($\"Area of tirangle:{area}\");"
   ]
  },
  {
   "cell_type": "markdown",
   "id": "921b3991",
   "metadata": {},
   "source": [
    "# Question 04"
   ]
  },
  {
   "cell_type": "code",
   "execution_count": 31,
   "id": "3d764cf3-e868-4a7c-b6c5-bf2a3fd45b67",
   "metadata": {},
   "outputs": [
    {
     "name": "stdout",
     "output_type": "stream",
     "text": [
      "Even numbers...\n",
      "42\n",
      "56\n",
      "32\n",
      "Odd numbers...\n",
      "25\n",
      "47\n"
     ]
    }
   ],
   "source": [
    "  int[] list1 = new int[] {\n",
    "            25,\n",
    "            47,\n",
    "            42,\n",
    "            56,\n",
    "            32\n",
    "         };\n",
    "            int[] list2 = new int[5];\n",
    "            int[] list3 = new int[5];\n",
    "            int i, j = 0, k = 0;\n",
    "            for (i = 0; i < 5; i++)\n",
    "            {\n",
    "                if (list1[i] % 2 == 0)\n",
    "                {\n",
    "                    list2[j] = list1[i];\n",
    "                    j++;\n",
    "                }\n",
    "                else\n",
    "                {\n",
    "                    list3[k] = list1[i];\n",
    "                    k++;\n",
    "                }\n",
    "            }\n",
    "            Console.WriteLine(\"Even numbers...\");\n",
    "            for (i = 0; i < j; i++)\n",
    "            {\n",
    "                Console.WriteLine(list2[i]);\n",
    "            }\n",
    "            Console.WriteLine(\"Odd numbers...\");\n",
    "            for (i = 0; i < k; i++)\n",
    "            {\n",
    "                Console.WriteLine(list3[i]);\n",
    "            }\n",
    "        \n",
    "    \n"
   ]
  },
  {
   "cell_type": "markdown",
   "id": "05ceabac",
   "metadata": {},
   "source": [
    "# Question 05\n",
    "    \n",
    "    "
   ]
  },
  {
   "cell_type": "code",
   "execution_count": 28,
   "id": "e551c1ac-ba32-412d-a05e-6b19bb18aa38",
   "metadata": {},
   "outputs": [],
   "source": [
    "//a\n",
    "    bool inside1(int a1, int b1, int a2,int  b2, int a,int  b)\n",
    "    {\n",
    "     \n",
    "     if (a > a1 && a < a2 && b > b1 && b < b2)\n",
    "            return true;\n",
    "\n",
    "        return false;\n",
    "    }"
   ]
  },
  {
   "cell_type": "code",
   "execution_count": 8,
   "id": "744eb4a4-aeca-42a9-945b-9516d86b594c",
   "metadata": {},
   "outputs": [
    {
     "data": {
      "text/plain": [
       "False"
      ]
     },
     "execution_count": 8,
     "metadata": {},
     "output_type": "execute_result"
    }
   ],
   "source": [
    "inside(0,0,2,3,-1,-1)"
   ]
  },
  {
   "cell_type": "code",
   "execution_count": 29,
   "id": "8bdad285-bcca-43a5-b679-b8b80ced55f6",
   "metadata": {},
   "outputs": [],
   "source": [
    "//b\n",
    "bool inside2(double a1, double b1, double a2,double  b2, double a,double  b)\n",
    "    {\n",
    "     \n",
    "     if (a > a1 && a < a2 && b > b1 && b < b2)\n",
    "            return true;\n",
    "\n",
    "        return false;\n",
    "    }"
   ]
  },
  {
   "cell_type": "code",
   "execution_count": 10,
   "id": "e31c73da-6b03-4771-92a3-eec0731a8fe2",
   "metadata": {},
   "outputs": [
    {
     "data": {
      "text/plain": [
       "True"
      ]
     },
     "execution_count": 10,
     "metadata": {},
     "output_type": "execute_result"
    }
   ],
   "source": [
    "inside2(0.3,0.5,2,3,1,1)"
   ]
  },
  {
   "cell_type": "code",
   "execution_count": null,
   "id": "94ed6420-f157-4513-8b6e-117347e96646",
   "metadata": {},
   "outputs": [],
   "source": []
  }
 ],
 "metadata": {
  "kernelspec": {
   "display_name": ".NET (C#)",
   "language": "C#",
   "name": ".net-csharp"
  },
  "language_info": {
   "file_extension": ".cs",
   "mimetype": "text/x-csharp",
   "name": "C#",
   "pygments_lexer": "csharp",
   "version": "8.0"
  }
 },
 "nbformat": 4,
 "nbformat_minor": 5
}
